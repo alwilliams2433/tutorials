{
 "cells": [
  {
   "cell_type": "code",
   "execution_count": 5,
   "metadata": {
    "collapsed": true
   },
   "outputs": [],
   "source": [
    "def combine(x,y):\n",
    "    \"\"\"Combine x and y togther\"\"\"\n",
    "    \n",
    "    z = x + y\n",
    "    \n",
    "    # Add this \n",
    "    from IPython import embed; embed() \n",
    "    \n",
    "    return z"
   ]
  },
  {
   "cell_type": "code",
   "execution_count": 13,
   "metadata": {
    "collapsed": false
   },
   "outputs": [
    {
     "name": "stdout",
     "output_type": "stream",
     "text": [
      "combine integers\n",
      "\n",
      "\u0001\u001b[0;32m\u0002In [\u0001\u001b[1;32m\u00021\u0001\u001b[0;32m\u0002]: \u0001\u001b[0m\u0002z = 10\n",
      "\n",
      "\u0001\u001b[0;32m\u0002In [\u0001\u001b[1;32m\u00022\u0001\u001b[0;32m\u0002]: \u0001\u001b[0m\u0002print z\n",
      "10\n",
      "\n",
      "\u0001\u001b[0;32m\u0002In [\u0001\u001b[1;32m\u00023\u0001\u001b[0;32m\u0002]: \u0001\u001b[0m\u0002exit\n",
      "\n",
      "output is:  5\n"
     ]
    }
   ],
   "source": [
    "print 'combine integers'\n",
    "output = combine(3,2)\n",
    "print 'output is: ', output"
   ]
  },
  {
   "cell_type": "code",
   "execution_count": 4,
   "metadata": {
    "collapsed": false
   },
   "outputs": [
    {
     "name": "stdout",
     "output_type": "stream",
     "text": [
      "\n",
      "\u0001\u001b[0;32m\u0002In [\u0001\u001b[1;32m\u00021\u0001\u001b[0;32m\u0002]: \u0001\u001b[0m\u0002print x\n",
      "[1, 2]\n",
      "\n",
      "\u0001\u001b[0;32m\u0002In [\u0001\u001b[1;32m\u00022\u0001\u001b[0;32m\u0002]: \u0001\u001b[0m\u0002len(x)\n",
      "\n",
      "\u0001\u001b[0;32m\u0002In [\u0001\u001b[1;32m\u00023\u0001\u001b[0;32m\u0002]: \u0001\u001b[0m\u0002print len(x)\n",
      "2\n",
      "\n",
      "\u0001\u001b[0;32m\u0002In [\u0001\u001b[1;32m\u00024\u0001\u001b[0;32m\u0002]: \u0001\u001b[0m\u0002print len(z)\n",
      "4\n",
      "\n",
      "\u0001\u001b[0;32m\u0002In [\u0001\u001b[1;32m\u00025\u0001\u001b[0;32m\u0002]: \u0001\u001b[0m\u0002print z\n",
      "[1, 2, 3, 4]\n",
      "\n",
      "\u0001\u001b[0;32m\u0002In [\u0001\u001b[1;32m\u00026\u0001\u001b[0;32m\u0002]: \u0001\u001b[0m\u0002exit\n",
      "\n"
     ]
    },
    {
     "data": {
      "text/plain": [
       "[1, 2, 3, 4]"
      ]
     },
     "execution_count": 4,
     "metadata": {},
     "output_type": "execute_result"
    }
   ],
   "source": [
    "print 'combine lists'\n",
    "combine([1,2],[3,4])"
   ]
  },
  {
   "cell_type": "code",
   "execution_count": 7,
   "metadata": {
    "collapsed": true
   },
   "outputs": [],
   "source": [
    "x = 10\n"
   ]
  },
  {
   "cell_type": "code",
   "execution_count": 8,
   "metadata": {
    "collapsed": false
   },
   "outputs": [
    {
     "data": {
      "text/plain": [
       "int"
      ]
     },
     "execution_count": 8,
     "metadata": {},
     "output_type": "execute_result"
    }
   ],
   "source": [
    "print type(x)\n",
    "print x+5\n",
    "print "
   ]
  },
  {
   "cell_type": "code",
   "execution_count": null,
   "metadata": {
    "collapsed": true
   },
   "outputs": [],
   "source": []
  }
 ],
 "metadata": {
  "kernelspec": {
   "display_name": "Python 2",
   "language": "python",
   "name": "python2"
  },
  "language_info": {
   "codemirror_mode": {
    "name": "ipython",
    "version": 2
   },
   "file_extension": ".py",
   "mimetype": "text/x-python",
   "name": "python",
   "nbconvert_exporter": "python",
   "pygments_lexer": "ipython2",
   "version": "2.7.10"
  }
 },
 "nbformat": 4,
 "nbformat_minor": 0
}
