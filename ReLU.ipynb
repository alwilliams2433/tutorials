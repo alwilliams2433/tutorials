{
 "cells": [
  {
   "cell_type": "raw",
   "metadata": {},
   "source": [
    "<code><script>\n",
    "var myUrl = 'http://kawahara.ca/what-is-the-derivative-of-relu/';\n",
    " \n",
    "if((window.top.location.href !== myUrl) || (window.top.location.ref !== 'http://kawahara.ca) || (window.top.location.ref !== 'http://www.kawahara.ca)) {\n",
    "    window.top.location.href = myUrl;\n",
    "}\n",
    "</script></code>"
   ]
  },
  {
   "cell_type": "markdown",
   "metadata": {},
   "source": [
    "<h3>Short Summary</h3>"
   ]
  },
  {
   "cell_type": "markdown",
   "metadata": {},
   "source": [
    "The rectified linear unit (ReLU) is defined as $f(x)=\\text{max}(0,x)$. The derivative of ReLU is:\n",
    "\n",
    "\n",
    "\\begin{equation} \n",
    "f'(x)=\n",
    "    \\begin{cases}\n",
    "      1, & \\text{if}\\ x>0 \\\\\n",
    "      0, & \\text{otherwise}\n",
    "    \\end{cases}\n",
    "\\end{equation}"
   ]
  },
  {
   "cell_type": "markdown",
   "metadata": {},
   "source": [
    "<h3>/end short summary</h3>"
   ]
  },
  {
   "cell_type": "markdown",
   "metadata": {},
   "source": [
    "If you want a more complete explanation, then let's read on!\n",
    "\n",
    "In neural networks, a now commonly used activation function is the rectified linear unit, or as commonly abbreviated, ReLU. The ReLU is defined as,\n",
    "\n",
    "\\begin{equation}\n",
    "f(x) = \\text{max}(0,x)\n",
    "\\end{equation}"
   ]
  },
  {
   "cell_type": "markdown",
   "metadata": {},
   "source": [
    "What does this function do? Basically, it sets anything less than or equal to 0 (negative numbers) to be 0. And keeps all the same values for any values > 0. Let's do some examples and plot this out to make sure we are clear."
   ]
  },
  {
   "cell_type": "code",
   "execution_count": 3,
   "metadata": {
    "collapsed": false
   },
   "outputs": [],
   "source": [
    "# Import needed libraries and other python stuff here.\n",
    "# Show figures directly in the notebook.\n",
    "%matplotlib inline \n",
    "import matplotlib.pyplot as plt # For plotting.\n",
    "import numpy as np # To create matrices."
   ]
  },
  {
   "cell_type": "markdown",
   "metadata": {},
   "source": [
    "<h1>ReLU</h1>"
   ]
  },
  {
   "cell_type": "code",
   "execution_count": 4,
   "metadata": {
    "collapsed": true
   },
   "outputs": [],
   "source": [
    "# Here we define the ReLU function.\n",
    "def f(x):\n",
    "    \"\"\"ReLU returns 1 if x>0, else 0.\"\"\"\n",
    "    return np.maximum(0,x)"
   ]
  },
  {
   "cell_type": "code",
   "execution_count": 5,
   "metadata": {
    "collapsed": false
   },
   "outputs": [
    {
     "name": "stdout",
     "output_type": "stream",
     "text": [
      "1\n",
      "3\n"
     ]
    }
   ],
   "source": [
    "# If we give ReLU a positive number, it returns the same positive number.\n",
    "print f(1)\n",
    "print f(3)"
   ]
  },
  {
   "cell_type": "code",
   "execution_count": 6,
   "metadata": {
    "collapsed": false
   },
   "outputs": [
    {
     "name": "stdout",
     "output_type": "stream",
     "text": [
      "0\n",
      "0\n"
     ]
    }
   ],
   "source": [
    "# If we give ReLU a negative number, it returns 0.\n",
    "print f(-1)\n",
    "print f(-3)"
   ]
  },
  {
   "cell_type": "code",
   "execution_count": 7,
   "metadata": {
    "collapsed": false
   },
   "outputs": [
    {
     "data": {
      "text/plain": [
       "0"
      ]
     },
     "execution_count": 7,
     "metadata": {},
     "output_type": "execute_result"
    }
   ],
   "source": [
    "# If we give ReLU a value of 0, it also returns 0.\n",
    "f(0)"
   ]
  },
  {
   "cell_type": "markdown",
   "metadata": {},
   "source": [
    "<h1>Derivative of ReLU</h1>"
   ]
  },
  {
   "cell_type": "markdown",
   "metadata": {},
   "source": [
    "Now just looking at the equation $f(x) = \\text{max}(0,x)$, it was not clear to me what the derivative is, i.e. what is the derivative of the max() function?\n",
    "\n",
    "However, the derivative becomes clearer if we graph things out. \n",
    "\n",
    "Let's start by creating a range of x values, starting from -3 to +3, and increment by 0.5"
   ]
  },
  {
   "cell_type": "code",
   "execution_count": 8,
   "metadata": {
    "collapsed": false
   },
   "outputs": [
    {
     "name": "stdout",
     "output_type": "stream",
     "text": [
      "[-4 -3 -2 -1  0  1  2  3  4]\n"
     ]
    }
   ],
   "source": [
    "X = np.arange(-4,5,1)\n",
    "print X"
   ]
  },
  {
   "cell_type": "markdown",
   "metadata": {},
   "source": [
    "Then, we compute the ReLU for all the X values."
   ]
  },
  {
   "cell_type": "code",
   "execution_count": 9,
   "metadata": {
    "collapsed": false
   },
   "outputs": [
    {
     "name": "stdout",
     "output_type": "stream",
     "text": [
      "[0 0 0 0 0 1 2 3 4]\n"
     ]
    }
   ],
   "source": [
    "Y = f(X)\n",
    "# All negative values are 0.\n",
    "print Y"
   ]
  },
  {
   "cell_type": "markdown",
   "metadata": {},
   "source": [
    "We can plot $X$ along the x-axis, and $f(X)$ along the y-axis to see how how the ReLU function looks."
   ]
  },
  {
   "cell_type": "code",
   "execution_count": 10,
   "metadata": {
    "collapsed": false
   },
   "outputs": [
    {
     "data": {
      "text/plain": [
       "<matplotlib.text.Text at 0x3177c50>"
      ]
     },
     "execution_count": 10,
     "metadata": {},
     "output_type": "execute_result"
    },
    {
     "data": {
      "image/png": "[encoded data removed]",
      "text/plain": [
       "<matplotlib.figure.Figure at 0x3169d10>"
      ]
     },
     "metadata": {},
     "output_type": "display_data"
    }
   ],
   "source": [
    "plt.plot(X,Y,'o-')\n",
    "plt.ylim(-1,5); plt.grid(); plt.xlabel('$x$', fontsize=22); plt.ylabel('$f(x)$', fontsize=22)"
   ]
  },
  {
   "cell_type": "markdown",
   "metadata": {},
   "source": [
    "A \"derivative\" is just the slope of the graph at certain point. So what is the slope of the graph at the point $x=2$?\n",
    "\n",
    "We can visually look at the segment where x=2 and see that the slope is 1. In fact, this holds everywhere >0. The slope is 1.\n",
    "\n",
    "What is the slope of the graph when x=-2? Visually, we see that there is no slope (change in Y), so the slope is 0. In fact, for all negative numbers, the slope is 0.\n",
    "\n",
    "Let's graph the same plot again, but this time, plot all negative x values in blue, and all positive x values in green."
   ]
  },
  {
   "cell_type": "code",
   "execution_count": 11,
   "metadata": {
    "collapsed": false
   },
   "outputs": [
    {
     "data": {
      "text/plain": [
       "<matplotlib.legend.Legend at 0x33d7550>"
      ]
     },
     "execution_count": 11,
     "metadata": {},
     "output_type": "execute_result"
    },
    {
     "data": {
      "image/png": "[encoded data removed]",
      "text/plain": [
       "<matplotlib.figure.Figure at 0x33b1050>"
      ]
     },
     "metadata": {},
     "output_type": "display_data"
    }
   ],
   "source": [
    "plt.figure(figsize=(7,7))\n",
    "\n",
    "X_neg = np.arange(-4,1,1) # Negative numbers.\n",
    "plt.plot(X_neg,f(X_neg),'.-', label='$f\\'(x) =0$'); # Plot negative x, f(x)\n",
    "\n",
    "X_pos = np.arange(0,5,1) # Positive numbers\n",
    "plt.plot(X_pos, f(X_pos), '.-g',label='$f\\'(x)=1$') # Plot positive x, f(x)\n",
    "\n",
    "plt.plot(0,f(0),'or',label='$f \\'(x)=$undefined but set to 0') # At 0.\n",
    "\n",
    "plt.ylim(-1,5); plt.grid(); plt.xlabel('$x$', fontsize=22); plt.ylabel('$f(x)$', fontsize=22) # Make plot look nice.\n",
    "plt.legend(loc='best', fontsize=16)"
   ]
  },
  {
   "cell_type": "markdown",
   "metadata": {},
   "source": [
    "Now what about x=0? Technically this is undefined. When x=0, there are many possible lines (slopes) we could fit through it. So what do we do here? \n",
    "\n",
    "Basically we just choose a slope to use when x=0. A common choice is when x=0, the derivative will be 0. It could be some other value, but most implementations use this (this has a nice property that it encourages many values to be 0 i.e., sparsity in the feature map).\n",
    "\n",
    "Alright there you go. We examined what the derivative of ReLU activation function is, and why it is this."
   ]
  }
 ],
 "metadata": {
  "kernelspec": {
   "display_name": "Python 2",
   "language": "python",
   "name": "python2"
  },
  "language_info": {
   "codemirror_mode": {
    "name": "ipython",
    "version": 2
   },
   "file_extension": ".py",
   "mimetype": "text/x-python",
   "name": "python",
   "nbconvert_exporter": "python",
   "pygments_lexer": "ipython2",
   "version": "2.7.6"
  }
 },
 "nbformat": 4,
 "nbformat_minor": 0
}
