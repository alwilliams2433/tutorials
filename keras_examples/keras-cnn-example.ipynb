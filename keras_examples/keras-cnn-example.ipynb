{
 "cells": [
  {
   "cell_type": "markdown",
   "metadata": {},
   "source": [
    "<h1>Getting started</h1>"
   ]
  },
  {
   "cell_type": "markdown",
   "metadata": {},
   "source": [
    "<h1>GPUs</h1>"
   ]
  },
  {
   "cell_type": "markdown",
   "metadata": {},
   "source": [
    "<p>See our lab infastructure page for list of machines with GPU</p>"
   ]
  },
  {
   "cell_type": "markdown",
   "metadata": {},
   "source": [
    "<h2>Shared GPUs etiquette</h2>"
   ]
  },
  {
   "cell_type": "markdown",
   "metadata": {},
   "source": [
    "<h3>Check if others are using the GPU. If they are, then you should try to use a different one</h3>\n",
    "<ul>\n",
    "<li>You can corrupt others results if you try and access the GPU at the same time (noticed this with keras)</li>\n",
    "<li>You can use too much memory and cause the job to crash if you load another model at the same time</li>\n",
    "</ul>"
   ]
  },
  {
   "cell_type": "markdown",
   "metadata": {},
   "source": [
    "<p>From the command line, run:</p>\n",
    "`nvidia-smi`\n",
    "<p>And you can see if the GPU is in use (memory will be almost full)</p>\n",
    "<p>From the command line run:</p>\n",
    "`top`\n",
    "<p>And you can see what is being run, and by whom!</p>"
   ]
  },
  {
   "cell_type": "markdown",
   "metadata": {},
   "source": [
    "<h3>Leave large GPUs free if you have small jobs</h3>\n",
    "<p>Try to use a 2GB GPU if you're just doing some quick prototyping, or if your model is small. This allows others with bigger models to use the larger GPUs</p>"
   ]
  },
  {
   "cell_type": "markdown",
   "metadata": {},
   "source": [
    "<h3>Eventually we will need some schedule</h3>\n",
    "<p>If more people are using this, it would be good to somehow let others know when, and how long</p>"
   ]
  },
  {
   "cell_type": "code",
   "execution_count": null,
   "metadata": {
    "collapsed": true
   },
   "outputs": [],
   "source": []
  },
  {
   "cell_type": "markdown",
   "metadata": {
    "deletable": true,
    "editable": true
   },
   "source": [
    "<p>A simple complete example showing how to create a CNN for Keras using the CIFAR10 dataset.</p>\n",
    "\n",
    "<p>We'll go through the following steps that are common to almost all problems:</p>\n",
    "<ol>\n",
    "<li>Spliting data into train, valid, and test</li>\n",
    "<li>preprocessing images</li>\n",
    "<li>setting up a typical CNN architecture</li>\n",
    "<li>training the CNN</li>\n",
    "<li>testing the CNN and reporting metrics</li> \n",
    "</ol>\n",
    "\n",
    "<p>The CNN has 5 layers and shows how to use,</p>\n",
    "<ul>\n",
    "<li>convolutional layers</li>\n",
    "<li>fully-connected layers</li>\n",
    "<li>max-pooling</li>\n",
    "<li>batch normalization</li>\n",
    "<li>dropout</li>\n",
    "<li>weight regularization</li>\n",
    "<li>SGD</li>\n",
    "<li>a function to specify parts of repeated architecture</li>\n",
    "</ul>\n",
    "\n",
    "<p>This CNN is very small (only ~116K parameters), and achieves ~77% accuracy after 25 epochs (okay not great accuracy, but hey you grouch, this is just an example).</p>\n",
    "\n",
    "<p>This takes < 15 mins to train for 25 epochs, using a 2GB NVIDIA GPU.</p>"
   ]
  },
  {
   "cell_type": "code",
   "execution_count": 1,
   "metadata": {
    "collapsed": true,
    "deletable": true,
    "editable": true
   },
   "outputs": [],
   "source": [
    "from __future__ import print_function, division"
   ]
  },
  {
   "cell_type": "markdown",
   "metadata": {},
   "source": [
    "<h2>Technical note</h2>\n",
    "<p>I use Python 2.7 instead of the newer 3.X version... This is because, occasionally, there are times when only Python 2.7 is supported.</p>\n",
    "\n",
    "<p>So this `from __future__` thing forces some parts of the code to behave like Python 3.X</p>"
   ]
  },
  {
   "cell_type": "code",
   "execution_count": 2,
   "metadata": {
    "collapsed": false,
    "deletable": true,
    "editable": true
   },
   "outputs": [
    {
     "name": "stderr",
     "output_type": "stream",
     "text": [
      "Using TensorFlow backend.\n"
     ]
    }
   ],
   "source": [
    "import matplotlib.pyplot as plt\n",
    "%matplotlib inline \n",
    "import numpy as np\n",
    "\n",
    "import keras\n",
    "import keras.backend as K\n",
    "from keras.models import Model\n",
    "from keras.layers import Conv2D, MaxPooling2D, Input, Flatten, Dropout, Dense\n",
    "from keras.layers.advanced_activations import LeakyReLU\n",
    "from keras.layers.normalization import BatchNormalization\n",
    "from keras.layers.pooling import AveragePooling2D\n",
    "from keras import optimizers\n",
    "from keras import initializers\n",
    "from keras import regularizers"
   ]
  },
  {
   "cell_type": "markdown",
   "metadata": {},
   "source": [
    "<h3>Minor technical notes</h3>\n",
    "<p>This code was written for the Keras 2.0 version. This is important! They changed how some of the functions are called in Keras 2.0 vs earlier versions. So if you are getting strange erorrs, check your version of Keras!</p>"
   ]
  },
  {
   "cell_type": "code",
   "execution_count": 3,
   "metadata": {
    "collapsed": true,
    "deletable": true,
    "editable": true
   },
   "outputs": [],
   "source": [
    "from keras.datasets import cifar10\n",
    "\n",
    "# 10 classes for cifar10.\n",
    "nb_classes = 10\n",
    "\n",
    "# Download and load the data.\n",
    "(X_train, y_train), (X_test, y_test) = cifar10.load_data()\n",
    "\n",
    "# Convert to float datatype.\n",
    "X_train = X_train.astype(np.float32)\n",
    "X_test = X_test.astype(np.float32)\n",
    "\n",
    "# Normalize so the max value is 1.\n",
    "X_train /= 255\n",
    "X_test /= 255\n",
    "\n",
    "# Change to 1-hot encoding.\n",
    "Y_train = keras.utils.np_utils.to_categorical(y_train, nb_classes)\n",
    "Y_test = keras.utils.np_utils.to_categorical(y_test, nb_classes)"
   ]
  },
  {
   "cell_type": "code",
   "execution_count": 4,
   "metadata": {
    "collapsed": false,
    "deletable": true,
    "editable": true
   },
   "outputs": [
    {
     "name": "stdout",
     "output_type": "stream",
     "text": [
      "(50000, 32, 32, 3)\n",
      "(10000, 32, 32, 3)\n",
      "(50000, 10)\n",
      "(10000, 10)\n"
     ]
    }
   ],
   "source": [
    "# Check our shapes.\n",
    "print(X_train.shape)\n",
    "print(X_test.shape)\n",
    "\n",
    "print(Y_train.shape)\n",
    "print(Y_test.shape)"
   ]
  },
  {
   "cell_type": "code",
   "execution_count": 5,
   "metadata": {
    "collapsed": false,
    "deletable": true,
    "editable": true
   },
   "outputs": [
    {
     "data": {
      "text/plain": [
       "<matplotlib.colorbar.Colorbar at 0x7f9a08e85610>"
      ]
     },
     "execution_count": 5,
     "metadata": {},
     "output_type": "execute_result"
    },
    {
     "data": {
      "image/png": "[encoded data removed]",
      "text/plain": [
       "<matplotlib.figure.Figure at 0x7f9a10444690>"
      ]
     },
     "metadata": {},
     "output_type": "display_data"
    }
   ],
   "source": [
    "idx = 20\n",
    "plt.imshow(np.squeeze(X_train[idx,:,:]), interpolation=\"None\"); plt.colorbar()"
   ]
  },
  {
   "cell_type": "code",
   "execution_count": 6,
   "metadata": {
    "collapsed": true,
    "deletable": true,
    "editable": true
   },
   "outputs": [],
   "source": [
    "# Subtract by the mean pixel, so image data is centered around 0.\n",
    "mean_px = X_train.mean(axis=0).mean(axis=0).mean(axis=0)\n",
    "X_train -= mean_px"
   ]
  },
  {
   "cell_type": "code",
   "execution_count": 7,
   "metadata": {
    "collapsed": false,
    "deletable": true,
    "editable": true
   },
   "outputs": [
    {
     "data": {
      "text/plain": [
       "<matplotlib.colorbar.Colorbar at 0x7f9a08cc0d50>"
      ]
     },
     "execution_count": 7,
     "metadata": {},
     "output_type": "execute_result"
    },
    {
     "data": {
      "image/png": "[encoded data removed]",
      "text/plain": [
       "<matplotlib.figure.Figure at 0x7f9a08dd29d0>"
      ]
     },
     "metadata": {},
     "output_type": "display_data"
    }
   ],
   "source": [
    "# Looks odd now since it's centered around 0.\n",
    "idx = 20\n",
    "plt.imshow(np.squeeze(X_train[idx,:,:]), interpolation=\"None\"); plt.colorbar()"
   ]
  },
  {
   "cell_type": "markdown",
   "metadata": {},
   "source": [
    "<h1>Clearing the graphs from the GPU memory</h1>\n",
    "\n",
    "<p>This clears the session's graph. That is all the stuff that's been stored in TensorFlow. \n",
    "Run this to clear all the stuff on the GPU.</p>\n",
    "\n",
    "<p>This is very useful if you're running some cross-validation models, or testing different models.\n",
    "You'll quickly get out of memory errors. Run this, and re-create your graphs, to avoid having to restart your kernel. </p>\n",
    "\n",
    "<p>So if you run the below example, and then wanted to re-run it, you should run this `K.clear_session()` to clear the GPU memory, and start again</p>"
   ]
  },
  {
   "cell_type": "code",
   "execution_count": null,
   "metadata": {
    "collapsed": true
   },
   "outputs": [],
   "source": [
    "# Clear the tensorflow graphs on the GPU memory.\n",
    "K.clear_session()"
   ]
  },
  {
   "cell_type": "markdown",
   "metadata": {},
   "source": [
    "<h1>How to initialize the weights is important!</h1>\n",
    "\n",
    "<p>There are many ways to do this... Most sample from some random initialization around 0.</p>\n",
    "<p>But from what distribution (usually Gaussian or uniform)?</p>\n",
    "<p>And with what standard deviation?</p>\n",
    "<p>A common way, especially when using ReLUs, is to use the intialization proposed by He et al.</p>\n",
    "\n",
    "<p>\n",
    "He, K., Zhang, X., Ren, S., & Sun, J. (2016). \n",
    "Delving deep into rectifiers: Surpassing human-level performance on imagenet classification. \n",
    "In ICCV (pp. 1026–1034). \n",
    "http://doi.org/10.1109/ICCV.2015.123\n",
    "</p>"
   ]
  },
  {
   "cell_type": "code",
   "execution_count": null,
   "metadata": {
    "collapsed": true
   },
   "outputs": [],
   "source": [
    "# Initialize the weights using He et al.'s approach.\n",
    "kernel_init = initializers.he_uniform()"
   ]
  },
  {
   "cell_type": "code",
   "execution_count": null,
   "metadata": {
    "collapsed": true
   },
   "outputs": [],
   "source": [
    "inputs = Input(shape=(32, 32, 3))\n",
    "padding = 'same' # 'valid' 'same'"
   ]
  },
  {
   "cell_type": "code",
   "execution_count": 8,
   "metadata": {
    "collapsed": true,
    "deletable": true,
    "editable": true
   },
   "outputs": [],
   "source": [
    "reg = regularizers.l2(0.0005)\n",
    "\n",
    "def conv_bn_relu(x, nb_filters, kernel_size=(3,3), padding='same'):\n",
    "    x = Conv2D(nb_filters, # How many filters (number of nodes)\n",
    "               kernel_size=kernel_size, padding=padding, kernel_initializer=kernel_init, kernel_regularizer=reg)(x)\n",
    "    x = BatchNormalization()(x)\n",
    "    x = LeakyReLU(0.33)(x)\n",
    "    return x\n",
    "\n",
    "x = inputs\n",
    "x = conv_bn_relu(x, 64, kernel_size=(3,3))\n",
    "x = MaxPooling2D((2, 2), strides=(2, 2), padding=padding)(x)\n",
    "\n",
    "x = conv_bn_relu(x, 64, kernel_size=(3,3))\n",
    "x = MaxPooling2D((2, 2), strides=(2, 2), padding=padding)(x)\n",
    "\n",
    "x = conv_bn_relu(x, 64, kernel_size=(3,3))\n",
    "x = MaxPooling2D((2, 2), strides=(2, 2), padding=padding)(x)\n",
    "\n",
    "x = conv_bn_relu(x, 64, kernel_size=(3,3))\n",
    "x = MaxPooling2D((2, 2), strides=(2, 2), padding=padding)(x)\n",
    "\n",
    "# Output layer.\n",
    "x = Flatten()(x)\n",
    "x = Dropout(0.5)(x)\n",
    "preds1 = Dense(nb_classes, kernel_initializer=kernel_init, activation='softmax')(x)\n",
    "\n",
    "model = Model(inputs=inputs, outputs=[preds1])\n",
    "\n",
    "# lr = learning rate\n",
    "sgd = optimizers.SGD(lr=0.01, # Learning rate: probably the most important hyper-parameter to tune!\n",
    "                              # Try 0.01, if loss does not go down, or if it goes to NaN, \n",
    "                              # try 0.001, then 0.0001, then 0.00001, \n",
    "                              # This can really make a big difference!\n",
    "                     decay=1e-6, momentum=0.9, nesterov=True)\n",
    "\n",
    "model.compile(optimizer=sgd,\n",
    "              loss='categorical_crossentropy', # The function to optimize. This will determine everything!\n",
    "              metrics=['accuracy'])"
   ]
  },
  {
   "cell_type": "code",
   "execution_count": 9,
   "metadata": {
    "collapsed": false,
    "deletable": true,
    "editable": true
   },
   "outputs": [
    {
     "name": "stdout",
     "output_type": "stream",
     "text": [
      "_________________________________________________________________\n",
      "Layer (type)                 Output Shape              Param #   \n",
      "=================================================================\n",
      "input_1 (InputLayer)         (None, 32, 32, 3)         0         \n",
      "_________________________________________________________________\n",
      "conv2d_1 (Conv2D)            (None, 32, 32, 64)        1792      \n",
      "_________________________________________________________________\n",
      "batch_normalization_1 (Batch (None, 32, 32, 64)        256       \n",
      "_________________________________________________________________\n",
      "leaky_re_lu_1 (LeakyReLU)    (None, 32, 32, 64)        0         \n",
      "_________________________________________________________________\n",
      "max_pooling2d_1 (MaxPooling2 (None, 16, 16, 64)        0         \n",
      "_________________________________________________________________\n",
      "conv2d_2 (Conv2D)            (None, 16, 16, 64)        36928     \n",
      "_________________________________________________________________\n",
      "batch_normalization_2 (Batch (None, 16, 16, 64)        256       \n",
      "_________________________________________________________________\n",
      "leaky_re_lu_2 (LeakyReLU)    (None, 16, 16, 64)        0         \n",
      "_________________________________________________________________\n",
      "max_pooling2d_2 (MaxPooling2 (None, 8, 8, 64)          0         \n",
      "_________________________________________________________________\n",
      "conv2d_3 (Conv2D)            (None, 8, 8, 64)          36928     \n",
      "_________________________________________________________________\n",
      "batch_normalization_3 (Batch (None, 8, 8, 64)          256       \n",
      "_________________________________________________________________\n",
      "leaky_re_lu_3 (LeakyReLU)    (None, 8, 8, 64)          0         \n",
      "_________________________________________________________________\n",
      "max_pooling2d_3 (MaxPooling2 (None, 4, 4, 64)          0         \n",
      "_________________________________________________________________\n",
      "conv2d_4 (Conv2D)            (None, 4, 4, 64)          36928     \n",
      "_________________________________________________________________\n",
      "batch_normalization_4 (Batch (None, 4, 4, 64)          256       \n",
      "_________________________________________________________________\n",
      "leaky_re_lu_4 (LeakyReLU)    (None, 4, 4, 64)          0         \n",
      "_________________________________________________________________\n",
      "max_pooling2d_4 (MaxPooling2 (None, 2, 2, 64)          0         \n",
      "_________________________________________________________________\n",
      "flatten_1 (Flatten)          (None, 256)               0         \n",
      "_________________________________________________________________\n",
      "dropout_1 (Dropout)          (None, 256)               0         \n",
      "_________________________________________________________________\n",
      "dense_1 (Dense)              (None, 10)                2570      \n",
      "=================================================================\n",
      "Total params: 116,170.0\n",
      "Trainable params: 115,658.0\n",
      "Non-trainable params: 512.0\n",
      "_________________________________________________________________\n"
     ]
    }
   ],
   "source": [
    "model.summary()"
   ]
  },
  {
   "cell_type": "markdown",
   "metadata": {},
   "source": [
    "<h1>Train the model</h1>\n",
    "\n",
    "<h3>Initial goal: lower the training loss</h3>\n",
    "<p>To start, you should be most interested in if your training loss is going down over epochs. You want to see a clear trend where the training loss decreases. It should decrease quite quickly in the first few epochs, then slower over time.</p>\n",
    "\n",
    "<p>This should be your main focus at the start. If the training loss is not decreasing, then you probably have a problem with your network somewhere (even if your data is composed of random noise, a large enough network should be able to lower the loss over the dataset just by memorizing the training data).</p>\n",
    "\n",
    "<p>If the loss is not decreasing, you should look at (in suggested order):</p>\n",
    "<ul>\n",
    "<li>lower the learning rate (by a factor of ten, a few times e.g., 0.01, 0.001, 0.0001, 0.00001)</li>\n",
    "<li>remove regularization (no dropout, no l2-weight regularization)</li>\n",
    "<li>make sure the output layer and loss function are setup correctly and makes sense for your problem</li>\n",
    "<li>check how the data is preprocessed and make sure it's not garbled</li>\n",
    "<li>check your weight initializations</li>\n",
    "<li>make the layers wider (i.e., more nodes in a hidden layer, not deeper)</li>\n",
    "</ul>\n",
    "\n",
    "<p>Note: adding batch normalization often seems to make the training easier. So it's often good to have these layers.</p>"
   ]
  },
  {
   "cell_type": "markdown",
   "metadata": {},
   "source": [
    "<h3>Secondary goal: </h3>"
   ]
  },
  {
   "cell_type": "code",
   "execution_count": 11,
   "metadata": {
    "collapsed": false,
    "deletable": true,
    "editable": true
   },
   "outputs": [
    {
     "name": "stdout",
     "output_type": "stream",
     "text": [
      "Train on 40000 samples, validate on 10000 samples\n",
      "Epoch 1/25\n",
      "30s - loss: 1.6757 - acc: 0.4871 - val_loss: 1.4049 - val_acc: 0.5793\n",
      "Epoch 2/25\n",
      "29s - loss: 1.3135 - acc: 0.6151 - val_loss: 1.2172 - val_acc: 0.6498\n",
      "Epoch 3/25\n",
      "29s - loss: 1.1716 - acc: 0.6594 - val_loss: 1.1349 - val_acc: 0.6701\n",
      "Epoch 4/25\n",
      "29s - loss: 1.0871 - acc: 0.6909 - val_loss: 1.0477 - val_acc: 0.6957\n",
      "Epoch 5/25\n",
      "29s - loss: 1.0183 - acc: 0.7129 - val_loss: 1.0796 - val_acc: 0.6941\n",
      "Epoch 6/25\n",
      "29s - loss: 0.9838 - acc: 0.7230 - val_loss: 0.9793 - val_acc: 0.7248\n",
      "Epoch 7/25\n",
      "29s - loss: 0.9556 - acc: 0.7357 - val_loss: 0.9543 - val_acc: 0.7379\n",
      "Epoch 8/25\n",
      "29s - loss: 0.9269 - acc: 0.7444 - val_loss: 0.9162 - val_acc: 0.7512\n",
      "Epoch 9/25\n",
      "29s - loss: 0.9066 - acc: 0.7537 - val_loss: 0.9307 - val_acc: 0.7475\n",
      "Epoch 10/25\n",
      "29s - loss: 0.8867 - acc: 0.7619 - val_loss: 0.9337 - val_acc: 0.7555\n",
      "Epoch 11/25\n",
      "28s - loss: 0.8798 - acc: 0.7666 - val_loss: 1.0633 - val_acc: 0.7120\n",
      "Epoch 12/25\n",
      "28s - loss: 0.8711 - acc: 0.7715 - val_loss: 0.9335 - val_acc: 0.7507\n",
      "Epoch 13/25\n",
      "29s - loss: 0.8649 - acc: 0.7753 - val_loss: 0.9944 - val_acc: 0.7384\n",
      "Epoch 14/25\n",
      "29s - loss: 0.8522 - acc: 0.7832 - val_loss: 0.9114 - val_acc: 0.7697\n",
      "Epoch 15/25\n",
      "29s - loss: 0.8517 - acc: 0.7823 - val_loss: 0.9895 - val_acc: 0.7457\n",
      "Epoch 16/25\n",
      "29s - loss: 0.8432 - acc: 0.7886 - val_loss: 1.0131 - val_acc: 0.7400\n",
      "Epoch 17/25\n",
      "29s - loss: 0.8414 - acc: 0.7891 - val_loss: 1.0136 - val_acc: 0.7445\n",
      "Epoch 18/25\n",
      "29s - loss: 0.8345 - acc: 0.7949 - val_loss: 0.9264 - val_acc: 0.7725\n",
      "Epoch 19/25\n",
      "28s - loss: 0.8331 - acc: 0.7965 - val_loss: 1.0052 - val_acc: 0.7533\n",
      "Epoch 20/25\n",
      "29s - loss: 0.8361 - acc: 0.7974 - val_loss: 0.9975 - val_acc: 0.7394\n",
      "Epoch 21/25\n",
      "29s - loss: 0.8331 - acc: 0.7981 - val_loss: 1.0147 - val_acc: 0.7488\n",
      "Epoch 22/25\n",
      "29s - loss: 0.8320 - acc: 0.7990 - val_loss: 1.0458 - val_acc: 0.7419\n",
      "Epoch 23/25\n",
      "28s - loss: 0.8184 - acc: 0.8063 - val_loss: 0.9559 - val_acc: 0.7666\n",
      "Epoch 24/25\n",
      "29s - loss: 0.8195 - acc: 0.8060 - val_loss: 1.1117 - val_acc: 0.7267\n",
      "Epoch 25/25\n",
      "29s - loss: 0.8158 - acc: 0.8097 - val_loss: 0.9382 - val_acc: 0.7796\n"
     ]
    },
    {
     "data": {
      "text/plain": [
       "<keras.callbacks.History at 0x7f9a08de1e90>"
      ]
     },
     "execution_count": 11,
     "metadata": {},
     "output_type": "execute_result"
    }
   ],
   "source": [
    "model.fit(X_train, # The data (what we observe - the images)\n",
    "          [Y_train], #  The labels (what we want to predict)\n",
    "          batch_size=32,  # 32 images are going through the net (update based on 32 images). \n",
    "                          # If you get out-of-memory errors, try lowering the batch_size.\n",
    "          epochs=25,  # epoch = full pass over the training data.\n",
    "          validation_split=0.2, \n",
    "          shuffle=True, verbose=2)"
   ]
  },
  {
   "cell_type": "code",
   "execution_count": null,
   "metadata": {
    "collapsed": true,
    "deletable": true,
    "editable": true
   },
   "outputs": [],
   "source": []
  }
 ],
 "metadata": {
  "kernelspec": {
   "display_name": "Python 2",
   "language": "python",
   "name": "python2"
  },
  "language_info": {
   "codemirror_mode": {
    "name": "ipython",
    "version": 2
   },
   "file_extension": ".py",
   "mimetype": "text/x-python",
   "name": "python",
   "nbconvert_exporter": "python",
   "pygments_lexer": "ipython2",
   "version": "2.7.13"
  }
 },
 "nbformat": 4,
 "nbformat_minor": 2
}
