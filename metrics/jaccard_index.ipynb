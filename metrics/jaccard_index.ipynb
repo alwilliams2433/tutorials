{
 "cells": [
  {
   "cell_type": "code",
   "execution_count": 2,
   "metadata": {
    "collapsed": true
   },
   "outputs": [],
   "source": [
    "import numpy as np"
   ]
  },
  {
   "cell_type": "code",
   "execution_count": 3,
   "metadata": {
    "collapsed": false
   },
   "outputs": [],
   "source": [
    "def jaccard_similarity_coefficient(A, B, no_positives=1.0):\n",
    "    \"\"\"Returns the jaccard index/similarity coefficient between A and B.\n",
    "    \n",
    "    This should work for arrays of any dimensions.\n",
    "    \n",
    "    J = len(intersection(A,B)) / len(union(A,B)) \n",
    "    \n",
    "    To extend to probabilistic input, to compute the intersection, use the min(A,B).\n",
    "    To compute the union, use max(A,B).\n",
    "    \n",
    "    Assumes that a value of 1 indicates the positive values.  \n",
    "    A value of 0 indicates the negative values.\n",
    "    \n",
    "    If no positive values (1) in either A or B, then returns no_positives.\n",
    "    \"\"\"\n",
    "    # Make sure the shapes are the same.\n",
    "    if not A.shape == B.shape:\n",
    "        raise ValueError(\"A and B must be the same shape\")\n",
    "        \n",
    "        \n",
    "    # Make sure values are between 0 and 1.\n",
    "    if np.any( (A>1.) | (A<0) | (B>1.) | (B<0)):\n",
    "        raise ValueError(\"A and B must be between 0 and 1\")\n",
    "    \n",
    "    # Flatten to handle nd arrays.\n",
    "    A = A.flatten()\n",
    "    B = B.flatten()\n",
    "    \n",
    "    intersect = np.minimum(A,B)\n",
    "    union = np.maximum(A, B)\n",
    "    \n",
    "    # Special case if neither A or B have a 1 value.\n",
    "    if union.sum() == 0:\n",
    "        return no_positives\n",
    "    \n",
    "    # Compute the Jaccard.\n",
    "    J = float(intersect.sum()) / union.sum()\n",
    "    return J\n",
    "\n",
    "\n",
    "def _jaccard_similarity_coefficient():\n",
    "    A = np.asarray([0,0,1])\n",
    "    B = np.asarray([0,1,1])\n",
    "    exp_out = 1. / 2\n",
    "    act_out = jaccard_similarity_coefficient(A,B)\n",
    "    assert act_out == exp_out, \"Incorrect jaccard calculation\"\n",
    "\n",
    "    A = np.asarray([0,1,1])\n",
    "    B = np.asarray([0,1,1])\n",
    "    act_out = jaccard_similarity_coefficient(A,B)\n",
    "    assert act_out == 1., \"If same, then is 1.\"\n",
    "\n",
    "    A = np.asarray([0,1,1,0])\n",
    "    B = np.asarray([0,1,1])\n",
    "    try: excep = False; jaccard_similarity_coefficient(A,B) # This should throw an error.\n",
    "    except: excep = True\n",
    "    assert excep, \"Error with different sized inputs.\"\n",
    "\n",
    "    A = np.asarray([0,1,1.1])\n",
    "    B = np.asarray([0,1,1])\n",
    "    try: excep = False; jaccard_similarity_coefficient(A,B) # This should throw an error.\n",
    "    except: excep = True\n",
    "    assert excep, \"Values should be between 0 and 1.\"\n",
    "\n",
    "    A = np.asarray([1,0,1])\n",
    "    B = np.asarray([0,1,1])\n",
    "    A2 = np.asarray([A,A])\n",
    "    B2 = np.asarray([B,B])\n",
    "    act_out = jaccard_similarity_coefficient(A2,B2)\n",
    "    assert act_out == 1. / (3), \"Incorrect 2D jaccard calculation.\"\n",
    "\n",
    "    # Fuzzy values.\n",
    "    A = np.asarray([0.5,0,1])\n",
    "    B = np.asarray([0.6,1,1])\n",
    "    exp_out = 1.5 / (0.6+2)\n",
    "    act_out = jaccard_similarity_coefficient(A,B)\n",
    "    assert act_out == exp_out, \"Incorrect fuzzy jaccard calculation.\"\n",
    "    \n",
    "_jaccard_similarity_coefficient()"
   ]
  }
 ],
 "metadata": {
  "kernelspec": {
   "display_name": "Python [Root]",
   "language": "python",
   "name": "Python [Root]"
  },
  "language_info": {
   "codemirror_mode": {
    "name": "ipython",
    "version": 2
   },
   "file_extension": ".py",
   "mimetype": "text/x-python",
   "name": "python",
   "nbconvert_exporter": "python",
   "pygments_lexer": "ipython2",
   "version": "2.7.12"
  }
 },
 "nbformat": 4,
 "nbformat_minor": 0
}
