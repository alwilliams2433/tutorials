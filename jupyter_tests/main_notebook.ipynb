{
 "cells": [
  {
   "cell_type": "raw",
   "metadata": {},
   "source": [
    "It's not obvious how imports from other files work in Jupyter notebook. \n",
    "Here are some tests to better understand.\n",
    "\n",
    "tldr; For prototyping code, when you put stuff in different files, you can do this (but not recommended when not prototyping).\n",
    "\n",
    "%load_ext autoreload\n",
    "%autoreload 2\n",
    "from external import *"
   ]
  },
  {
   "cell_type": "code",
   "execution_count": 1,
   "metadata": {
    "collapsed": true
   },
   "outputs": [],
   "source": [
    "# This is the main notebook I'll work in.\n",
    "# I'll change the values in external.py as I go along."
   ]
  },
  {
   "cell_type": "raw",
   "metadata": {},
   "source": [
    "# Put only this function in external.py, and save it.\n",
    "\n",
    "def print_yo():\n",
    "    print 'yo'"
   ]
  },
  {
   "cell_type": "code",
   "execution_count": 2,
   "metadata": {
    "collapsed": false
   },
   "outputs": [
    {
     "ename": "NameError",
     "evalue": "name 'print_yo' is not defined",
     "output_type": "error",
     "traceback": [
      "\u001b[0;31m---------------------------------------------------------------------------\u001b[0m",
      "\u001b[0;31mNameError\u001b[0m                                 Traceback (most recent call last)",
      "\u001b[0;32m<ipython-input-2-1ec109bfeec6>\u001b[0m in \u001b[0;36m<module>\u001b[0;34m()\u001b[0m\n\u001b[0;32m----> 1\u001b[0;31m \u001b[0mprint_yo\u001b[0m\u001b[0;34m(\u001b[0m\u001b[0;34m)\u001b[0m\u001b[0;34m\u001b[0m\u001b[0m\n\u001b[0m",
      "\u001b[0;31mNameError\u001b[0m: name 'print_yo' is not defined"
     ]
    }
   ],
   "source": [
    "print_yo()"
   ]
  },
  {
   "cell_type": "code",
   "execution_count": 3,
   "metadata": {
    "collapsed": true
   },
   "outputs": [],
   "source": [
    "# Okay. So as expected, print_yo() isn't seen.\n",
    "# Let's import the external file."
   ]
  },
  {
   "cell_type": "code",
   "execution_count": 4,
   "metadata": {
    "collapsed": false
   },
   "outputs": [],
   "source": [
    "import external"
   ]
  },
  {
   "cell_type": "code",
   "execution_count": 5,
   "metadata": {
    "collapsed": false
   },
   "outputs": [
    {
     "ename": "NameError",
     "evalue": "name 'print_yo' is not defined",
     "output_type": "error",
     "traceback": [
      "\u001b[0;31m---------------------------------------------------------------------------\u001b[0m",
      "\u001b[0;31mNameError\u001b[0m                                 Traceback (most recent call last)",
      "\u001b[0;32m<ipython-input-5-1ec109bfeec6>\u001b[0m in \u001b[0;36m<module>\u001b[0;34m()\u001b[0m\n\u001b[0;32m----> 1\u001b[0;31m \u001b[0mprint_yo\u001b[0m\u001b[0;34m(\u001b[0m\u001b[0;34m)\u001b[0m\u001b[0;34m\u001b[0m\u001b[0m\n\u001b[0m",
      "\u001b[0;31mNameError\u001b[0m: name 'print_yo' is not defined"
     ]
    }
   ],
   "source": [
    "print_yo()"
   ]
  },
  {
   "cell_type": "code",
   "execution_count": 6,
   "metadata": {
    "collapsed": true
   },
   "outputs": [],
   "source": [
    "# Oh right, you have to call it like this."
   ]
  },
  {
   "cell_type": "code",
   "execution_count": 7,
   "metadata": {
    "collapsed": false
   },
   "outputs": [],
   "source": [
    "from external import print_yo"
   ]
  },
  {
   "cell_type": "code",
   "execution_count": 8,
   "metadata": {
    "collapsed": false
   },
   "outputs": [
    {
     "name": "stdout",
     "output_type": "stream",
     "text": [
      "yo\n"
     ]
    }
   ],
   "source": [
    "print_yo()"
   ]
  },
  {
   "cell_type": "raw",
   "metadata": {},
   "source": [
    "# Yay! \n",
    "# Okay, now add a new function called called print_whasap() to external.py.\n",
    "# The file should look like this.\n",
    "\n",
    "def print_yo():\n",
    "    print 'yo'\n",
    "\n",
    "def print_whasap():\n",
    "    print 'whassssap'\n",
    "    \n",
    "# Make sure to save it!"
   ]
  },
  {
   "cell_type": "code",
   "execution_count": 9,
   "metadata": {
    "collapsed": false
   },
   "outputs": [
    {
     "ename": "ImportError",
     "evalue": "cannot import name print_whasap",
     "output_type": "error",
     "traceback": [
      "\u001b[0;31m---------------------------------------------------------------------------\u001b[0m",
      "\u001b[0;31mImportError\u001b[0m                               Traceback (most recent call last)",
      "\u001b[0;32m<ipython-input-9-72bfbef1366a>\u001b[0m in \u001b[0;36m<module>\u001b[0;34m()\u001b[0m\n\u001b[0;32m----> 1\u001b[0;31m \u001b[0;32mfrom\u001b[0m \u001b[0mexternal\u001b[0m \u001b[0;32mimport\u001b[0m \u001b[0mprint_whasap\u001b[0m\u001b[0;34m\u001b[0m\u001b[0m\n\u001b[0m",
      "\u001b[0;31mImportError\u001b[0m: cannot import name print_whasap"
     ]
    }
   ],
   "source": [
    "from external import print_whasap"
   ]
  },
  {
   "cell_type": "code",
   "execution_count": 10,
   "metadata": {
    "collapsed": true
   },
   "outputs": [],
   "source": [
    "# Hmmm... okay doesn't see it after external's been loaded once.\n",
    "# Here's how to fix."
   ]
  },
  {
   "cell_type": "code",
   "execution_count": 11,
   "metadata": {
    "collapsed": true
   },
   "outputs": [],
   "source": [
    "%load_ext autoreload\n",
    "%autoreload 2"
   ]
  },
  {
   "cell_type": "code",
   "execution_count": 12,
   "metadata": {
    "collapsed": false
   },
   "outputs": [
    {
     "ename": "ImportError",
     "evalue": "cannot import name print_whasap",
     "output_type": "error",
     "traceback": [
      "\u001b[0;31m---------------------------------------------------------------------------\u001b[0m",
      "\u001b[0;31mImportError\u001b[0m                               Traceback (most recent call last)",
      "\u001b[0;32m<ipython-input-12-72bfbef1366a>\u001b[0m in \u001b[0;36m<module>\u001b[0;34m()\u001b[0m\n\u001b[0;32m----> 1\u001b[0;31m \u001b[0;32mfrom\u001b[0m \u001b[0mexternal\u001b[0m \u001b[0;32mimport\u001b[0m \u001b[0mprint_whasap\u001b[0m\u001b[0;34m\u001b[0m\u001b[0m\n\u001b[0m",
      "\u001b[0;31mImportError\u001b[0m: cannot import name print_whasap"
     ]
    }
   ],
   "source": [
    "from external import print_whasap"
   ]
  },
  {
   "cell_type": "code",
   "execution_count": 13,
   "metadata": {
    "collapsed": false
   },
   "outputs": [],
   "source": [
    "# What? It didn't work... \n",
    "# For some reason, I have to save external.py again. \n",
    "# So save external.py again (even though you didn't make any changes - not sure why this is an error)\n",
    "# Let's try it again.\n",
    "from external import print_whasap"
   ]
  },
  {
   "cell_type": "code",
   "execution_count": 14,
   "metadata": {
    "collapsed": false
   },
   "outputs": [
    {
     "name": "stdout",
     "output_type": "stream",
     "text": [
      "whassssap\n"
     ]
    }
   ],
   "source": [
    "print_whasap()"
   ]
  },
  {
   "cell_type": "raw",
   "metadata": {},
   "source": [
    "# Alright!\n",
    "# Now let's add another function to external.py \n",
    "# Copy and paste this block into external.py\n",
    "\n",
    "def print_yo():\n",
    "    print 'yo'\n",
    "\n",
    "def print_whasap():\n",
    "    print 'whassssap'\n",
    "\n",
    "def print_the_meaning_of_everything():\n",
    "    print '42'\n",
    "    \n",
    "# Remember to save!"
   ]
  },
  {
   "cell_type": "code",
   "execution_count": 15,
   "metadata": {
    "collapsed": false
   },
   "outputs": [],
   "source": [
    "from external import print_the_meaning_of_everything"
   ]
  },
  {
   "cell_type": "code",
   "execution_count": 16,
   "metadata": {
    "collapsed": false
   },
   "outputs": [
    {
     "name": "stdout",
     "output_type": "stream",
     "text": [
      "42\n"
     ]
    }
   ],
   "source": [
    "print_the_meaning_of_everything()"
   ]
  },
  {
   "cell_type": "code",
   "execution_count": 17,
   "metadata": {
    "collapsed": true
   },
   "outputs": [],
   "source": [
    "# Nice. Now this is a bit cumbersome to keep explicitly calling each function,\n",
    "# especially when you're prototyping, and you're not sure what will go where \n",
    "# (but it's good practice once the code is stable)\n",
    "# So you can import everything like this."
   ]
  },
  {
   "cell_type": "code",
   "execution_count": null,
   "metadata": {
    "collapsed": false
   },
   "outputs": [],
   "source": [
    "from external import *"
   ]
  },
  {
   "cell_type": "raw",
   "metadata": {},
   "source": [
    "# Now what happens if I just change the values in the other notebook...?\n",
    "# Copy and paste this code below.\n",
    "\n",
    "def print_yo():\n",
    "    print 'yo'\n",
    "\n",
    "def print_whasap():\n",
    "    print 'whassssap'\n",
    "\n",
    "def print_the_meaning_of_everything():\n",
    "    print '42. But what is the question?'"
   ]
  },
  {
   "cell_type": "code",
   "execution_count": null,
   "metadata": {
    "collapsed": false
   },
   "outputs": [],
   "source": [
    "print_the_meaning_of_everything()"
   ]
  },
  {
   "cell_type": "code",
   "execution_count": null,
   "metadata": {
    "collapsed": true
   },
   "outputs": [],
   "source": [
    "# Yay! It chaning the function in externel.py will now automagically be reflected in this notebook\n",
    "# As long as you remember to save it :) "
   ]
  }
 ],
 "metadata": {
  "kernelspec": {
   "display_name": "Python 2",
   "language": "python",
   "name": "python2"
  },
  "language_info": {
   "codemirror_mode": {
    "name": "ipython",
    "version": 2
   },
   "file_extension": ".py",
   "mimetype": "text/x-python",
   "name": "python",
   "nbconvert_exporter": "python",
   "pygments_lexer": "ipython2",
   "version": "2.7.6"
  }
 },
 "nbformat": 4,
 "nbformat_minor": 1
}
